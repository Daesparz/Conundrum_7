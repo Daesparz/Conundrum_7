{
 "cells": [
  {
   "cell_type": "markdown",
   "metadata": {},
   "source": [
    "# Census 2011 in UK\n",
    "\n",
    "Every ten years, UK conducts a census for developing policies, planning and running public services (schools, libraries, hospitals), allocating fundings and comparing different groups of people across England, Wales, Scotland and Northern Ireland. Investing decisions, generation of new jobs, housing and equal opportunities policies are based on quality data that census provides showing how many people work in every industry, housing information to know how people live - which allows to detect inadequate accomodation situations -, and identify disadvantages into ethnic and minority groups.\n",
    "\n",
    "This census was the first completed online. The Office for National Statistics (ONS) was responsable to conduct the census in England and Wales, meanwhile the General Register Office for Scotland (GROS) did the same in Scotland, and the Northern Ireland Statistics and Research Agency (NISRA) in Northern Ireland.\n",
    "\n",
    "The cost of the 2011 Census in England and Wales was around £482 million, more than twice the £210m spent on the 2001 census. If the census has a validity of 10 years, then the cost per person and year was 87 pence, being more expensive thar similar censuses in many other European countries (as indicated the Minister of State, Cabinet Office in 2009, Angela E. Smith in [First Delegated Legislation Committee](https://publications.parliament.uk/pa/cm200910/cmgeneral/deleg1/091130/91130s01.htm)). For that reason, this census is supposed to provide meaningful information about the population and clues related to how the central government can recognize urgent needs of local populations and distributes funding between local authorities to benefit people around the country."
   ]
  },
  {
   "cell_type": "code",
   "execution_count": 1,
   "metadata": {},
   "outputs": [],
   "source": [
    "import pandas as pd\n",
    "import numpy as np\n",
    "import matplotlib.pyplot as plt\n",
    "import scipy as sc\n",
    "import seaborn as sns"
   ]
  },
  {
   "cell_type": "code",
   "execution_count": 2,
   "metadata": {},
   "outputs": [],
   "source": [
    "df = pd.read_csv('../Conundrum7/Conundrum7Data.csv')"
   ]
  },
  {
   "cell_type": "code",
   "execution_count": 3,
   "metadata": {},
   "outputs": [
    {
     "data": {
      "text/html": [
       "<div>\n",
       "<style scoped>\n",
       "    .dataframe tbody tr th:only-of-type {\n",
       "        vertical-align: middle;\n",
       "    }\n",
       "\n",
       "    .dataframe tbody tr th {\n",
       "        vertical-align: top;\n",
       "    }\n",
       "\n",
       "    .dataframe thead th {\n",
       "        text-align: right;\n",
       "    }\n",
       "</style>\n",
       "<table border=\"1\" class=\"dataframe\">\n",
       "  <thead>\n",
       "    <tr style=\"text-align: right;\">\n",
       "      <th></th>\n",
       "      <th>Person ID</th>\n",
       "      <th>Region</th>\n",
       "      <th>Residence Type</th>\n",
       "      <th>Family Composition</th>\n",
       "      <th>Population Base</th>\n",
       "      <th>Sex</th>\n",
       "      <th>Age</th>\n",
       "      <th>Marital Status</th>\n",
       "      <th>Student</th>\n",
       "      <th>Country of Birth</th>\n",
       "      <th>Health</th>\n",
       "      <th>Ethnic Group</th>\n",
       "      <th>Religion</th>\n",
       "      <th>Economic Activity</th>\n",
       "      <th>Occupation</th>\n",
       "      <th>Industry</th>\n",
       "      <th>Hours worked per week</th>\n",
       "      <th>Approximated Social Grade</th>\n",
       "    </tr>\n",
       "  </thead>\n",
       "  <tbody>\n",
       "    <tr>\n",
       "      <th>0</th>\n",
       "      <td>7394816</td>\n",
       "      <td>E12000001</td>\n",
       "      <td>H</td>\n",
       "      <td>2</td>\n",
       "      <td>1</td>\n",
       "      <td>2</td>\n",
       "      <td>6</td>\n",
       "      <td>2</td>\n",
       "      <td>2</td>\n",
       "      <td>1</td>\n",
       "      <td>2</td>\n",
       "      <td>1</td>\n",
       "      <td>2</td>\n",
       "      <td>5</td>\n",
       "      <td>8</td>\n",
       "      <td>2</td>\n",
       "      <td>-9</td>\n",
       "      <td>4</td>\n",
       "    </tr>\n",
       "    <tr>\n",
       "      <th>1</th>\n",
       "      <td>7394745</td>\n",
       "      <td>E12000001</td>\n",
       "      <td>H</td>\n",
       "      <td>5</td>\n",
       "      <td>1</td>\n",
       "      <td>1</td>\n",
       "      <td>4</td>\n",
       "      <td>1</td>\n",
       "      <td>2</td>\n",
       "      <td>1</td>\n",
       "      <td>1</td>\n",
       "      <td>1</td>\n",
       "      <td>2</td>\n",
       "      <td>1</td>\n",
       "      <td>8</td>\n",
       "      <td>6</td>\n",
       "      <td>4</td>\n",
       "      <td>3</td>\n",
       "    </tr>\n",
       "    <tr>\n",
       "      <th>2</th>\n",
       "      <td>7395066</td>\n",
       "      <td>E12000001</td>\n",
       "      <td>H</td>\n",
       "      <td>3</td>\n",
       "      <td>1</td>\n",
       "      <td>2</td>\n",
       "      <td>4</td>\n",
       "      <td>1</td>\n",
       "      <td>2</td>\n",
       "      <td>1</td>\n",
       "      <td>1</td>\n",
       "      <td>1</td>\n",
       "      <td>1</td>\n",
       "      <td>1</td>\n",
       "      <td>6</td>\n",
       "      <td>11</td>\n",
       "      <td>3</td>\n",
       "      <td>4</td>\n",
       "    </tr>\n",
       "    <tr>\n",
       "      <th>3</th>\n",
       "      <td>7395329</td>\n",
       "      <td>E12000001</td>\n",
       "      <td>H</td>\n",
       "      <td>3</td>\n",
       "      <td>1</td>\n",
       "      <td>2</td>\n",
       "      <td>2</td>\n",
       "      <td>1</td>\n",
       "      <td>2</td>\n",
       "      <td>1</td>\n",
       "      <td>2</td>\n",
       "      <td>1</td>\n",
       "      <td>2</td>\n",
       "      <td>1</td>\n",
       "      <td>7</td>\n",
       "      <td>7</td>\n",
       "      <td>3</td>\n",
       "      <td>2</td>\n",
       "    </tr>\n",
       "    <tr>\n",
       "      <th>4</th>\n",
       "      <td>7394712</td>\n",
       "      <td>E12000001</td>\n",
       "      <td>H</td>\n",
       "      <td>3</td>\n",
       "      <td>1</td>\n",
       "      <td>1</td>\n",
       "      <td>5</td>\n",
       "      <td>4</td>\n",
       "      <td>2</td>\n",
       "      <td>1</td>\n",
       "      <td>1</td>\n",
       "      <td>1</td>\n",
       "      <td>2</td>\n",
       "      <td>1</td>\n",
       "      <td>1</td>\n",
       "      <td>4</td>\n",
       "      <td>3</td>\n",
       "      <td>2</td>\n",
       "    </tr>\n",
       "  </tbody>\n",
       "</table>\n",
       "</div>"
      ],
      "text/plain": [
       "   Person ID     Region Residence Type  Family Composition  Population Base  \\\n",
       "0    7394816  E12000001              H                   2                1   \n",
       "1    7394745  E12000001              H                   5                1   \n",
       "2    7395066  E12000001              H                   3                1   \n",
       "3    7395329  E12000001              H                   3                1   \n",
       "4    7394712  E12000001              H                   3                1   \n",
       "\n",
       "   Sex  Age  Marital Status  Student  Country of Birth  Health  Ethnic Group  \\\n",
       "0    2    6               2        2                 1       2             1   \n",
       "1    1    4               1        2                 1       1             1   \n",
       "2    2    4               1        2                 1       1             1   \n",
       "3    2    2               1        2                 1       2             1   \n",
       "4    1    5               4        2                 1       1             1   \n",
       "\n",
       "   Religion  Economic Activity  Occupation  Industry  Hours worked per week  \\\n",
       "0         2                  5           8         2                     -9   \n",
       "1         2                  1           8         6                      4   \n",
       "2         1                  1           6        11                      3   \n",
       "3         2                  1           7         7                      3   \n",
       "4         2                  1           1         4                      3   \n",
       "\n",
       "   Approximated Social Grade  \n",
       "0                          4  \n",
       "1                          3  \n",
       "2                          4  \n",
       "3                          2  \n",
       "4                          2  "
      ]
     },
     "execution_count": 3,
     "metadata": {},
     "output_type": "execute_result"
    }
   ],
   "source": [
    "df.head()"
   ]
  },
  {
   "cell_type": "code",
   "execution_count": 4,
   "metadata": {},
   "outputs": [
    {
     "name": "stdout",
     "output_type": "stream",
     "text": [
      "<class 'pandas.core.frame.DataFrame'>\n",
      "RangeIndex: 569741 entries, 0 to 569740\n",
      "Data columns (total 18 columns):\n",
      "Person ID                    569741 non-null int64\n",
      "Region                       569741 non-null object\n",
      "Residence Type               569741 non-null object\n",
      "Family Composition           569741 non-null int64\n",
      "Population Base              569741 non-null int64\n",
      "Sex                          569741 non-null int64\n",
      "Age                          569741 non-null int64\n",
      "Marital Status               569741 non-null int64\n",
      "Student                      569741 non-null int64\n",
      "Country of Birth             569741 non-null int64\n",
      "Health                       569741 non-null int64\n",
      "Ethnic Group                 569741 non-null int64\n",
      "Religion                     569741 non-null int64\n",
      "Economic Activity            569741 non-null int64\n",
      "Occupation                   569741 non-null int64\n",
      "Industry                     569741 non-null int64\n",
      "Hours worked per week        569741 non-null int64\n",
      "Approximated Social Grade    569741 non-null int64\n",
      "dtypes: int64(16), object(2)\n",
      "memory usage: 78.2+ MB\n"
     ]
    }
   ],
   "source": [
    "df.info()"
   ]
  },
  {
   "cell_type": "markdown",
   "metadata": {},
   "source": [
    "In this case, there is not missing values, but we apply the `dropna()` function as sanity check. Remember that we are able to drop rows or columns without information in the case when all the cells (or any of them) have missing values through the parameters `axis` (0 by default that means 'index' and 1 meaning 'columns') and `how` ('any' as default or 'all')."
   ]
  },
  {
   "cell_type": "code",
   "execution_count": 5,
   "metadata": {},
   "outputs": [],
   "source": [
    "df.dropna(axis=0, how='any', inplace=True)"
   ]
  },
  {
   "cell_type": "markdown",
   "metadata": {},
   "source": [
    "Drop possible duplicates rows:"
   ]
  },
  {
   "cell_type": "code",
   "execution_count": 6,
   "metadata": {},
   "outputs": [],
   "source": [
    "df.drop_duplicates(keep='first', inplace=True)"
   ]
  },
  {
   "cell_type": "markdown",
   "metadata": {},
   "source": [
    "Check the number of rows and columns after dropping missing values and duplicates inputs:"
   ]
  },
  {
   "cell_type": "code",
   "execution_count": 7,
   "metadata": {},
   "outputs": [
    {
     "data": {
      "text/plain": [
       "(569741, 18)"
      ]
     },
     "execution_count": 7,
     "metadata": {},
     "output_type": "execute_result"
    }
   ],
   "source": [
    "df.shape"
   ]
  },
  {
   "cell_type": "markdown",
   "metadata": {},
   "source": [
    "It seems like there is not missing values and every inputs belongs to an unique ID person. Let's group the people polled by `Region`, `residence Type`, `Sex`, `Age` and `Marital Status`:"
   ]
  },
  {
   "cell_type": "markdown",
   "metadata": {},
   "source": [
    "### Population by region"
   ]
  },
  {
   "cell_type": "code",
   "execution_count": 8,
   "metadata": {},
   "outputs": [],
   "source": [
    "df_region = pd.DataFrame({'region_name':['North East','North West','Yorkshire and the Humber',\n",
    "                                        'East Midlands','West Midlands','East of England',\n",
    "                                        'London','South East','South West','Wales']},\n",
    "                         index=['E12000001', 'E12000002', \n",
    "                                 'E12000003', 'E12000004', \n",
    "                                 'E12000005', 'E12000006', \n",
    "                                 'E12000007', 'E12000008',\n",
    "                                 'E12000009', 'W92000004'])"
   ]
  },
  {
   "cell_type": "code",
   "execution_count": 9,
   "metadata": {},
   "outputs": [],
   "source": [
    "df_group = df.copy()\n",
    "df_group['counter'] = 1"
   ]
  },
  {
   "cell_type": "code",
   "execution_count": 10,
   "metadata": {},
   "outputs": [],
   "source": [
    "df_groupRegion = df_group.groupby('Region').count().sort_values(by='Person ID', ascending=False).counter"
   ]
  },
  {
   "cell_type": "code",
   "execution_count": 11,
   "metadata": {},
   "outputs": [],
   "source": [
    "df1 = pd.concat([df_groupRegion, df_region], axis=1, sort=False)"
   ]
  },
  {
   "cell_type": "code",
   "execution_count": 12,
   "metadata": {},
   "outputs": [
    {
     "data": {
      "text/html": [
       "<div>\n",
       "<style scoped>\n",
       "    .dataframe tbody tr th:only-of-type {\n",
       "        vertical-align: middle;\n",
       "    }\n",
       "\n",
       "    .dataframe tbody tr th {\n",
       "        vertical-align: top;\n",
       "    }\n",
       "\n",
       "    .dataframe thead th {\n",
       "        text-align: right;\n",
       "    }\n",
       "</style>\n",
       "<table border=\"1\" class=\"dataframe\">\n",
       "  <thead>\n",
       "    <tr style=\"text-align: right;\">\n",
       "      <th></th>\n",
       "      <th>counter</th>\n",
       "      <th>region_name</th>\n",
       "      <th>%</th>\n",
       "    </tr>\n",
       "  </thead>\n",
       "  <tbody>\n",
       "    <tr>\n",
       "      <th>E12000008</th>\n",
       "      <td>88084</td>\n",
       "      <td>South East</td>\n",
       "      <td>15.460358</td>\n",
       "    </tr>\n",
       "    <tr>\n",
       "      <th>E12000007</th>\n",
       "      <td>83582</td>\n",
       "      <td>London</td>\n",
       "      <td>14.670175</td>\n",
       "    </tr>\n",
       "    <tr>\n",
       "      <th>E12000002</th>\n",
       "      <td>71436</td>\n",
       "      <td>North West</td>\n",
       "      <td>12.538329</td>\n",
       "    </tr>\n",
       "    <tr>\n",
       "      <th>E12000006</th>\n",
       "      <td>59411</td>\n",
       "      <td>East of England</td>\n",
       "      <td>10.427721</td>\n",
       "    </tr>\n",
       "    <tr>\n",
       "      <th>E12000005</th>\n",
       "      <td>56875</td>\n",
       "      <td>West Midlands</td>\n",
       "      <td>9.982606</td>\n",
       "    </tr>\n",
       "    <tr>\n",
       "      <th>E12000009</th>\n",
       "      <td>53774</td>\n",
       "      <td>South West</td>\n",
       "      <td>9.438324</td>\n",
       "    </tr>\n",
       "    <tr>\n",
       "      <th>E12000003</th>\n",
       "      <td>53471</td>\n",
       "      <td>Yorkshire and the Humber</td>\n",
       "      <td>9.385142</td>\n",
       "    </tr>\n",
       "    <tr>\n",
       "      <th>E12000004</th>\n",
       "      <td>45782</td>\n",
       "      <td>East Midlands</td>\n",
       "      <td>8.035581</td>\n",
       "    </tr>\n",
       "    <tr>\n",
       "      <th>W92000004</th>\n",
       "      <td>30977</td>\n",
       "      <td>Wales</td>\n",
       "      <td>5.437032</td>\n",
       "    </tr>\n",
       "    <tr>\n",
       "      <th>E12000001</th>\n",
       "      <td>26349</td>\n",
       "      <td>North East</td>\n",
       "      <td>4.624733</td>\n",
       "    </tr>\n",
       "  </tbody>\n",
       "</table>\n",
       "</div>"
      ],
      "text/plain": [
       "           counter               region_name          %\n",
       "E12000008    88084                South East  15.460358\n",
       "E12000007    83582                    London  14.670175\n",
       "E12000002    71436                North West  12.538329\n",
       "E12000006    59411           East of England  10.427721\n",
       "E12000005    56875             West Midlands   9.982606\n",
       "E12000009    53774                South West   9.438324\n",
       "E12000003    53471  Yorkshire and the Humber   9.385142\n",
       "E12000004    45782             East Midlands   8.035581\n",
       "W92000004    30977                     Wales   5.437032\n",
       "E12000001    26349                North East   4.624733"
      ]
     },
     "execution_count": 12,
     "metadata": {},
     "output_type": "execute_result"
    }
   ],
   "source": [
    "df1['%'] = (df1.counter/df1.counter.sum())*100\n",
    "df1"
   ]
  },
  {
   "cell_type": "code",
   "execution_count": 13,
   "metadata": {},
   "outputs": [
    {
     "data": {
      "text/plain": [
       "53.09658248221561"
      ]
     },
     "execution_count": 13,
     "metadata": {},
     "output_type": "execute_result"
    }
   ],
   "source": [
    "df1.iloc[0:4, 2].sum()"
   ]
  },
  {
   "cell_type": "markdown",
   "metadata": {},
   "source": [
    "<img src=\"uk-regions.png\" alt=\"Drawing\" style=\"width: 400px;\"/>"
   ]
  },
  {
   "cell_type": "markdown",
   "metadata": {},
   "source": [
    "South East, London, North West and East of England concentrate more than 53% of the population across England and Wales. \n",
    "\n",
    "London, although the smallest area with a surface of 1.572 $km^2$ in relation with his neighbors East and South East, is the second region more populated and it has the highest population density in the UK. The main economic clusters are the financial sector, technology, digital and creative startups. \n",
    "\n",
    "On the other hand, South East, the second more dense area (around 9 million of population), with a surface of 19.095 $km^2$, is the region with more varied economy of all UK, from engineering, IT, technology, defence, aero and space industries, to pharmaceutical, biotech, agriculture and creative sectors. \n",
    "\n",
    "University of Cambridge, in the heart of East of England, attrack technical and multinationals companies and provides to the region the highest concentration of research and development industries as pharmaceutical, automotive, life science and health, agritech and high-tech systems and materials. East of England has a surface area of 19.120 $km^2$.\n",
    "\n",
    "North West (14.165 $km^2$) is second-largest regional economy, after London. Manchester and Liverpool are the economic hearts of the area."
   ]
  },
  {
   "cell_type": "markdown",
   "metadata": {},
   "source": [
    "### Population by sex"
   ]
  },
  {
   "cell_type": "code",
   "execution_count": 14,
   "metadata": {},
   "outputs": [],
   "source": [
    "df_groupRegionSex = df_group.groupby(['Region', 'Sex']).count().sort_values(by='Person ID', ascending=False).counter"
   ]
  },
  {
   "cell_type": "code",
   "execution_count": 15,
   "metadata": {},
   "outputs": [],
   "source": [
    "sex = pd.DataFrame({'Sex':[1,2], 'Initials':['M', 'F']})"
   ]
  },
  {
   "cell_type": "code",
   "execution_count": 16,
   "metadata": {},
   "outputs": [
    {
     "data": {
      "image/png": "[encoded data removed]",
      "text/plain": [
       "<Figure size 1476x468 with 1 Axes>"
      ]
     },
     "metadata": {
      "needs_background": "light"
     },
     "output_type": "display_data"
    }
   ],
   "source": [
    "_ = plt.figure(figsize=(20.5, 6.5))\n",
    "_ = sns.barplot(x='Region', y='counter', hue=\"Sex\", data=df_groupRegionSex.reset_index())\n",
    "_ = plt.xticks(np.arange(df1.shape[0]), df1.region_name)\n",
    "_ = plt.title('Population in UK regions by sex according to the 2011 census', size=18)\n",
    "_ = plt.ylabel('population', size=14)\n",
    "_ = plt.xlabel('region', size=14)"
   ]
  },
  {
   "cell_type": "markdown",
   "metadata": {},
   "source": [
    "### Population by residence type\n",
    "\n",
    "Census establishes 2 types of residences: \n",
    "- Resident in a communal establishment\n",
    "- Not resident in a communal establishment"
   ]
  },
  {
   "cell_type": "code",
   "execution_count": 17,
   "metadata": {},
   "outputs": [],
   "source": [
    "df_groupResidence = df_group.groupby('Residence Type').count()\n",
    "df_groupResidence['%'] = 100*(df_groupResidence.counter/df_groupResidence.counter.sum())"
   ]
  },
  {
   "cell_type": "code",
   "execution_count": 18,
   "metadata": {},
   "outputs": [
    {
     "data": {
      "text/html": [
       "<div>\n",
       "<style scoped>\n",
       "    .dataframe tbody tr th:only-of-type {\n",
       "        vertical-align: middle;\n",
       "    }\n",
       "\n",
       "    .dataframe tbody tr th {\n",
       "        vertical-align: top;\n",
       "    }\n",
       "\n",
       "    .dataframe thead th {\n",
       "        text-align: right;\n",
       "    }\n",
       "</style>\n",
       "<table border=\"1\" class=\"dataframe\">\n",
       "  <thead>\n",
       "    <tr style=\"text-align: right;\">\n",
       "      <th></th>\n",
       "      <th>counter</th>\n",
       "      <th>%</th>\n",
       "    </tr>\n",
       "    <tr>\n",
       "      <th>Residence Type</th>\n",
       "      <th></th>\n",
       "      <th></th>\n",
       "    </tr>\n",
       "  </thead>\n",
       "  <tbody>\n",
       "    <tr>\n",
       "      <th>C</th>\n",
       "      <td>10654</td>\n",
       "      <td>1.869972</td>\n",
       "    </tr>\n",
       "    <tr>\n",
       "      <th>H</th>\n",
       "      <td>559087</td>\n",
       "      <td>98.130028</td>\n",
       "    </tr>\n",
       "  </tbody>\n",
       "</table>\n",
       "</div>"
      ],
      "text/plain": [
       "                counter          %\n",
       "Residence Type                    \n",
       "C                 10654   1.869972\n",
       "H                559087  98.130028"
      ]
     },
     "execution_count": 18,
     "metadata": {},
     "output_type": "execute_result"
    }
   ],
   "source": [
    "df_groupResidence.loc[:, ['counter', '%']]"
   ]
  },
  {
   "cell_type": "markdown",
   "metadata": {},
   "source": [
    "### Composition family and age distributions"
   ]
  },
  {
   "cell_type": "code",
   "execution_count": 19,
   "metadata": {},
   "outputs": [],
   "source": [
    "df_family = pd.DataFrame({'code':[1, 2, 3, 4, 5, 6, -9], \n",
    "                          'type_family':['Not in a family', \n",
    "                                         'Married/same-sex civil partnership couple family',\n",
    "                                         'Cohabiting couple family',\n",
    "                                         'Lone parent family (male head)', \n",
    "                                         'Lone parent family (female head)',\n",
    "                                         'Other related family', \n",
    "                                         'No code required']})"
   ]
  },
  {
   "cell_type": "markdown",
   "metadata": {},
   "source": [
    "-9 code: No code required. Resident of a communal establishment, students or schoolchildren living away during term-time, or a short-term resident."
   ]
  },
  {
   "cell_type": "code",
   "execution_count": 20,
   "metadata": {},
   "outputs": [
    {
     "data": {
      "text/plain": [
       "Family Composition  Residence Type\n",
       "-9                  C                  10654\n",
       "                    H                   8197\n",
       " 1                  H                  96690\n",
       " 2                  H                 300962\n",
       " 3                  H                  72641\n",
       " 4                  H                   9848\n",
       " 5                  H                  64519\n",
       " 6                  H                   6230\n",
       "Name: counter, dtype: int64"
      ]
     },
     "execution_count": 20,
     "metadata": {},
     "output_type": "execute_result"
    }
   ],
   "source": [
    "df_group.groupby(['Family Composition', 'Residence Type']).count().counter"
   ]
  },
  {
   "cell_type": "markdown",
   "metadata": {},
   "source": [
    "### Occupation, Industry and Social Grade\n",
    "\n",
    "Social grades are grouping as AB, C1, C2, DE and -9 as no code required (People aged under 16, people resident in communal establishments, and students or schoolchildren living away during term-time)."
   ]
  },
  {
   "cell_type": "code",
   "execution_count": 21,
   "metadata": {},
   "outputs": [],
   "source": [
    "df_occupationSocial = df_group.groupby(['Occupation', 'Approximated Social Grade']).count().counter.reset_index()"
   ]
  },
  {
   "cell_type": "code",
   "execution_count": 22,
   "metadata": {},
   "outputs": [],
   "source": [
    "df3 = df_occupationSocial[(df_occupationSocial.Occupation != -9) & (df_occupationSocial['Approximated Social Grade'] != -9)]"
   ]
  },
  {
   "cell_type": "code",
   "execution_count": 23,
   "metadata": {},
   "outputs": [
    {
     "data": {
      "image/png": "[encoded data removed]",
      "text/plain": [
       "<Figure size 1476x612 with 1 Axes>"
      ]
     },
     "metadata": {
      "needs_background": "light"
     },
     "output_type": "display_data"
    }
   ],
   "source": [
    "_ = plt.figure(figsize=(20.5, 8.5))\n",
    "_ = sns.barplot(x='Approximated Social Grade', y='counter', hue='Occupation', data=df3)\n",
    "_ = plt.title('Population in UK by social grade and occupations according to the 2011 census', size=18)\n",
    "_ = plt.xticks(np.arange(4), ('AB','C1','C2', 'DE'))\n",
    "_ = plt.ylabel('population', size=14)\n",
    "_ = plt.xlabel('Social Grade Cluster', size=14)\n",
    "_ = plt.legend(loc='upper left')"
   ]
  },
  {
   "cell_type": "markdown",
   "metadata": {},
   "source": [
    "1. Managers, Directors and Senior Officials \n",
    "2. Professional Occupations \n",
    "3. Associate Professional and Technical Occupations \n",
    "4. Administrative and Secretarial Occupations \n",
    "5. Skilled Trades Occupations \n",
    "6. Caring, Leisure and Other Service Occupations \n",
    "7. Sales and Customer Service Occupations \n",
    "8. Process, Plant and Machine Operatives \n",
    "9. Elementary Occupations"
   ]
  },
  {
   "cell_type": "code",
   "execution_count": 24,
   "metadata": {},
   "outputs": [],
   "source": [
    "df_RegionSocial = df_group.groupby(['Region', 'Approximated Social Grade']).count().counter.reset_index()"
   ]
  },
  {
   "cell_type": "markdown",
   "metadata": {},
   "source": [
    "Filtering the code -9 for social grade, that means people aged under 16, people resident in communal establishments, and students or schoolchildren living away during term-time, "
   ]
  },
  {
   "cell_type": "code",
   "execution_count": 25,
   "metadata": {},
   "outputs": [],
   "source": [
    "df_RegionSocialFilter = df_RegionSocial[df_RegionSocial['Approximated Social Grade'] != -9]"
   ]
  },
  {
   "cell_type": "code",
   "execution_count": 26,
   "metadata": {},
   "outputs": [
    {
     "data": {
      "image/png": "[encoded data removed]",
      "text/plain": [
       "<Figure size 1476x612 with 1 Axes>"
      ]
     },
     "metadata": {
      "needs_background": "light"
     },
     "output_type": "display_data"
    }
   ],
   "source": [
    "_ = plt.figure(figsize=(20.5, 8.5))\n",
    "_ = sns.barplot(hue='Approximated Social Grade', \n",
    "                y='counter', \n",
    "                x='Region', \n",
    "                data=df_RegionSocialFilter,\n",
    "                palette='Blues')\n",
    "_ = plt.title('Population in UK by region and social grade according to the 2011 census', size=18)\n",
    "_ = plt.xticks(np.arange(df_region.shape[0]), df_region.region_name)\n",
    "_ = plt.ylabel('population', size=14)\n",
    "_ = plt.xlabel('Region', size=14)"
   ]
  },
  {
   "cell_type": "code",
   "execution_count": 27,
   "metadata": {},
   "outputs": [],
   "source": [
    "df_age = pd.DataFrame({'code':(1, 2, 3, 4, 5, 6, 7, 8), 'age':('0 to 15', \n",
    "                                                               '16 to 24', \n",
    "                                                               '25 to 34',\n",
    "                                                               '35 to 44',\n",
    "                                                               '45 to 54',\n",
    "                                                               '55 to 64',\n",
    "                                                               '65 to 74',\n",
    "                                                               '75 and over')})"
   ]
  },
  {
   "cell_type": "code",
   "execution_count": 28,
   "metadata": {},
   "outputs": [
    {
     "data": {
      "text/plain": [
       "Age\n",
       "1    106832\n",
       "2     72785\n",
       "3     75948\n",
       "4     78641\n",
       "5     77388\n",
       "6     65666\n",
       "7     48777\n",
       "8     43704\n",
       "Name: counter, dtype: int64"
      ]
     },
     "execution_count": 28,
     "metadata": {},
     "output_type": "execute_result"
    }
   ],
   "source": [
    "df_ageDistributed = df_group.groupby(['Age']).count()\n",
    "df_ageDistributed.counter"
   ]
  },
  {
   "cell_type": "code",
   "execution_count": 29,
   "metadata": {},
   "outputs": [],
   "source": [
    "df_ageDistributed.reset_index(inplace=True)"
   ]
  },
  {
   "cell_type": "code",
   "execution_count": 30,
   "metadata": {},
   "outputs": [
    {
     "data": {
      "image/png": "[encoded data removed]",
      "text/plain": [
       "<Figure size 612x468 with 1 Axes>"
      ]
     },
     "metadata": {
      "needs_background": "light"
     },
     "output_type": "display_data"
    }
   ],
   "source": [
    "_ = plt.figure(figsize=(8.5, 6.5))\n",
    "_ = sns.barplot(y='counter', \n",
    "                x='Age', \n",
    "                data=df_ageDistributed,\n",
    "                palette='Blues')\n",
    "_ = plt.title('Population in UK by social grade and occupations according to the 2011 census', size=16)\n",
    "_ = plt.xticks(np.arange(df_age.shape[0]), df_age.age)\n",
    "_ = plt.ylabel('population', size=14)\n",
    "_ = plt.xlabel('age clusters', size=14)"
   ]
  },
  {
   "cell_type": "code",
   "execution_count": 31,
   "metadata": {},
   "outputs": [
    {
     "data": {
      "text/plain": [
       "Marital Status\n",
       "1    270999\n",
       "2    214180\n",
       "3     11951\n",
       "4     40713\n",
       "5     31898\n",
       "Name: counter, dtype: int64"
      ]
     },
     "execution_count": 31,
     "metadata": {},
     "output_type": "execute_result"
    }
   ],
   "source": [
    "df_group.groupby('Marital Status').count().counter "
   ]
  },
  {
   "cell_type": "code",
   "execution_count": 32,
   "metadata": {},
   "outputs": [],
   "source": [
    "df_ageSex = df_group.groupby(['Sex', 'Age']).count()"
   ]
  },
  {
   "cell_type": "code",
   "execution_count": 33,
   "metadata": {},
   "outputs": [],
   "source": [
    "male = df_ageSex.loc[1].counter\n",
    "female = df_ageSex.loc[2].counter"
   ]
  },
  {
   "cell_type": "code",
   "execution_count": 34,
   "metadata": {},
   "outputs": [],
   "source": [
    "y_pos = np.arange(len(df_age.age))\n",
    "empty_ticks = tuple('' for n in df_age.age)"
   ]
  },
  {
   "cell_type": "code",
   "execution_count": 35,
   "metadata": {},
   "outputs": [
    {
     "data": {
      "image/png": "[encoded data removed]",
      "text/plain": [
       "<Figure size 432x288 with 2 Axes>"
      ]
     },
     "metadata": {
      "needs_background": "light"
     },
     "output_type": "display_data"
    }
   ],
   "source": [
    "fig, axes = plt.subplots(ncols=2, sharey=True)\n",
    "axes[0].barh(y_pos, female.values, align='center', color='dodgerblue', zorder=0, alpha=0.6)\n",
    "axes[0].set(title='Female Population')\n",
    "axes[1].barh(y_pos, male.values, align='center', color='cadetblue', zorder=0, alpha=0.6)\n",
    "axes[1].set(title='Male Population')\n",
    "\n",
    "axes[0].invert_xaxis()\n",
    "axes[0].set(yticks=y_pos, yticklabels=df_age.age)\n",
    "\n",
    "fig.set_figwidth(1.5*fig.get_figheight())\n",
    "fig.subplots_adjust(wspace=0.001)\n",
    "plt.show()"
   ]
  },
  {
   "cell_type": "code",
   "execution_count": 36,
   "metadata": {},
   "outputs": [],
   "source": [
    "# fig, axes = plt.subplots(ncols=2, sharey=True)\n",
    "# axes[0].barh(y_pos, female.values, align='center', color='dodgerblue', zorder=0, alpha=0.6)\n",
    "# axes[0].set(title='Female Population')\n",
    "# axes[1].barh(y_pos, male.values, align='center', color='cadetblue', zorder=0, alpha=0.6)\n",
    "# axes[1].set(title='Male Population')\n",
    "\n",
    "# axes[0].invert_xaxis()\n",
    "# axes[0].set(yticks=y_pos, yticklabels=df_age.age)\n",
    "# # axes[0].yaxis.tick_right()\n",
    "\n",
    "# # for ax in axes.flat:\n",
    "# #     ax.margins(0.03)\n",
    "# #     ax.grid(True)\n",
    "\n",
    "# # fig.tight_layout()\n",
    "# # plt.yticks(y_pos, df_age.age)\n",
    "# fig.set_figwidth(1.5*fig.get_figheight())\n",
    "\n",
    "# fig.subplots_adjust(wspace=0.001)\n",
    "# plt.show()"
   ]
  },
  {
   "cell_type": "markdown",
   "metadata": {},
   "source": [
    "## Birth Country, Ethnit group, Religion and Health\n",
    "\n",
    "The Intensive Care National Audit and Research Centre found that the third part of the most critically-ill patients with Covid-19 in UK identified as black, Asian or minority ethnic. (Source: [Coronavirus cases to be tracked by ethnicity](https://www.bbc.com/news/health-52338101)).\n",
    "\n",
    "Which percent of population in England and Wales belongs to ethnic and minority groups?\n",
    "\n",
    "### Ethnic Groups Code:\n",
    "- 1. White \n",
    "- 2. Mixed \n",
    "- 3. Asian and Asian British \n",
    "- 4. Black or Black British \n",
    "- 5. Chinese or Other ethnic group\n",
    "- -9. No code required (Not resident in England or Wales, students or schoolchildren living away during term-time)"
   ]
  },
  {
   "cell_type": "code",
   "execution_count": 37,
   "metadata": {},
   "outputs": [],
   "source": [
    "df_ethnic = df_group.groupby('Ethnic Group').count()"
   ]
  },
  {
   "cell_type": "code",
   "execution_count": 38,
   "metadata": {},
   "outputs": [
    {
     "data": {
      "text/html": [
       "<div>\n",
       "<style scoped>\n",
       "    .dataframe tbody tr th:only-of-type {\n",
       "        vertical-align: middle;\n",
       "    }\n",
       "\n",
       "    .dataframe tbody tr th {\n",
       "        vertical-align: top;\n",
       "    }\n",
       "\n",
       "    .dataframe thead th {\n",
       "        text-align: right;\n",
       "    }\n",
       "</style>\n",
       "<table border=\"1\" class=\"dataframe\">\n",
       "  <thead>\n",
       "    <tr style=\"text-align: right;\">\n",
       "      <th></th>\n",
       "      <th>counter</th>\n",
       "      <th>%</th>\n",
       "    </tr>\n",
       "    <tr>\n",
       "      <th>Ethnic Group</th>\n",
       "      <th></th>\n",
       "      <th></th>\n",
       "    </tr>\n",
       "  </thead>\n",
       "  <tbody>\n",
       "    <tr>\n",
       "      <th>1</th>\n",
       "      <td>483477</td>\n",
       "      <td>84.859085</td>\n",
       "    </tr>\n",
       "    <tr>\n",
       "      <th>3</th>\n",
       "      <td>42712</td>\n",
       "      <td>7.496740</td>\n",
       "    </tr>\n",
       "    <tr>\n",
       "      <th>4</th>\n",
       "      <td>18786</td>\n",
       "      <td>3.297288</td>\n",
       "    </tr>\n",
       "    <tr>\n",
       "      <th>2</th>\n",
       "      <td>12209</td>\n",
       "      <td>2.142904</td>\n",
       "    </tr>\n",
       "    <tr>\n",
       "      <th>-9</th>\n",
       "      <td>6804</td>\n",
       "      <td>1.194227</td>\n",
       "    </tr>\n",
       "    <tr>\n",
       "      <th>5</th>\n",
       "      <td>5753</td>\n",
       "      <td>1.009757</td>\n",
       "    </tr>\n",
       "  </tbody>\n",
       "</table>\n",
       "</div>"
      ],
      "text/plain": [
       "              counter          %\n",
       "Ethnic Group                    \n",
       " 1             483477  84.859085\n",
       " 3              42712   7.496740\n",
       " 4              18786   3.297288\n",
       " 2              12209   2.142904\n",
       "-9               6804   1.194227\n",
       " 5               5753   1.009757"
      ]
     },
     "execution_count": 38,
     "metadata": {},
     "output_type": "execute_result"
    }
   ],
   "source": [
    "df_ethnic['%'] = 100*df_ethnic.counter/df_ethnic.counter.sum()\n",
    "df_ethnic.loc[:, ['counter', '%']].sort_values('%', ascending=False)"
   ]
  },
  {
   "cell_type": "code",
   "execution_count": 39,
   "metadata": {},
   "outputs": [
    {
     "data": {
      "text/plain": [
       "13.946688056502866"
      ]
     },
     "execution_count": 39,
     "metadata": {},
     "output_type": "execute_result"
    }
   ],
   "source": [
    "df_ethnic.loc[[3, 4, 2, 5], '%'].sum()"
   ]
  },
  {
   "cell_type": "markdown",
   "metadata": {},
   "source": [
    "Around 85% of population identified as white, followed by 7.5% Asian and Black (including Asian and Black British). Chinese and other ethnic groups are the smallest group representing the 1% of people. According to the results, **Black, Asian and minority ethnics groups are the 13.946% of population**."
   ]
  },
  {
   "cell_type": "markdown",
   "metadata": {},
   "source": [
    "## Country of birth\n",
    "\n",
    "In this section, the alternatives are: 1. UK, 2. Non UK and -9. No Code required (Students or schoolchildren living away during term-time)."
   ]
  },
  {
   "cell_type": "code",
   "execution_count": 40,
   "metadata": {},
   "outputs": [],
   "source": [
    "df_countryOccupation = df_group.groupby(['Country of Birth', 'Occupation']).count()"
   ]
  },
  {
   "cell_type": "code",
   "execution_count": 41,
   "metadata": {},
   "outputs": [],
   "source": [
    "uk = df_countryOccupation.loc[(1, [1, 2, 3, 4, 5, 6, 7, 8, 9]), :].counter\n",
    "uk_percent = 100*uk/uk.sum()\n",
    "non_uk = df_countryOccupation.loc[(2, [1, 2, 3, 4, 5, 6, 7, 8, 9]), :].counter\n",
    "non_uk_percent = 100*non_uk/non_uk.sum()"
   ]
  },
  {
   "cell_type": "code",
   "execution_count": 42,
   "metadata": {},
   "outputs": [],
   "source": [
    "occupations_list = ['Managers, Directors and Senior Officials', \n",
    "                     'Professional Occupations',\n",
    "                     'Associate Professional and Technical Occupations',\n",
    "                     'Administrative and Secretarial Occupations', \n",
    "                     'Skilled Trades Occupations',\n",
    "                     'Caring, Leisure and Other Service Occupations',\n",
    "                     'Sales and Customer Service Occupations',\n",
    "                     'Process, Plant and Machine Operatives',\n",
    "                     'Elementary Occupations']\n",
    "y_pos = np.arange(9)\n",
    "empty_ticks = tuple('' for n in occupations_list)"
   ]
  },
  {
   "cell_type": "code",
   "execution_count": 43,
   "metadata": {},
   "outputs": [
    {
     "data": {
      "image/png": "[encoded data removed]",
      "text/plain": [
       "<Figure size 432x288 with 2 Axes>"
      ]
     },
     "metadata": {
      "needs_background": "light"
     },
     "output_type": "display_data"
    }
   ],
   "source": [
    "fig, axes = plt.subplots(ncols=2, sharey=True)\n",
    "axes[0].barh(y_pos, uk_percent, align='center', color='wheat', zorder=0, alpha=0.6)\n",
    "axes[0].set(title='Born in UK')\n",
    "axes[0].axvline(10, ls='--', color='orange')\n",
    "axes[1].barh(y_pos, non_uk_percent, align='center', color='powderblue', zorder=0, alpha=0.6)\n",
    "axes[1].set(title='Non Born in UK')\n",
    "axes[1].axvline(10, ls='--', color='steelblue')\n",
    "\n",
    "axes[0].invert_xaxis()\n",
    "axes[0].set(yticks=y_pos, yticklabels=occupations_list)\n",
    "\n",
    "fig.set_figwidth(1.5*fig.get_figheight())\n",
    "fig.subplots_adjust(wspace=0.001)\n",
    "plt.show()"
   ]
  },
  {
   "cell_type": "markdown",
   "metadata": {},
   "source": [
    "## Health\n",
    "\n",
    "The codification is the following:\n",
    "- 1. Very good health \n",
    "- 2. Good health \n",
    "- 3. Fair health \n",
    "- 4. Bad health \n",
    "- 5. Very bad health\n",
    "- -9. No code required (Students or schoolchildren living away during term-time)"
   ]
  },
  {
   "cell_type": "code",
   "execution_count": 44,
   "metadata": {},
   "outputs": [],
   "source": [
    "df_health = df_group.groupby(['Approximated Social Grade', 'Health']).count()"
   ]
  },
  {
   "cell_type": "code",
   "execution_count": 45,
   "metadata": {},
   "outputs": [],
   "source": [
    "df_health.loc[1, 'sum'] = df_health.loc[1, :].sum().counter\n",
    "df_health.loc[2, 'sum'] = df_health.loc[2, :].sum().counter\n",
    "df_health.loc[3, 'sum'] = df_health.loc[3, :].sum().counter\n",
    "df_health.loc[4, 'sum'] = df_health.loc[4, :].sum().counter\n",
    "df_health.loc[-9, 'sum'] = df_health.loc[-9, :].sum().counter"
   ]
  },
  {
   "cell_type": "code",
   "execution_count": 46,
   "metadata": {},
   "outputs": [],
   "source": [
    "df_health['%'] = 100*df_health['counter']/df_health['sum']"
   ]
  },
  {
   "cell_type": "code",
   "execution_count": 47,
   "metadata": {},
   "outputs": [],
   "source": [
    "df_health.reset_index(inplace=True)"
   ]
  },
  {
   "cell_type": "markdown",
   "metadata": {},
   "source": [
    "Let's filter the group -9 in Social Grade and Health:"
   ]
  },
  {
   "cell_type": "code",
   "execution_count": 48,
   "metadata": {},
   "outputs": [],
   "source": [
    "df_healthFilter = df_health[(df_health.Health != -9) & (df_health['Approximated Social Grade'] != -9)]"
   ]
  },
  {
   "cell_type": "code",
   "execution_count": 49,
   "metadata": {},
   "outputs": [
    {
     "data": {
      "image/png": "[encoded data removed]",
      "text/plain": [
       "<Figure size 393.375x468 with 1 Axes>"
      ]
     },
     "metadata": {
      "needs_background": "light"
     },
     "output_type": "display_data"
    }
   ],
   "source": [
    "g = sns.catplot(x='Approximated Social Grade', y='%', hue='Health',\n",
    "                capsize=.2, palette=\"coolwarm\", height=6.5, aspect=.75,\n",
    "                kind=\"point\", data=df_healthFilter)\n",
    "_ = plt.xticks(np.arange(4), ('AB','C1','C2', 'DE'))\n",
    "_ = plt.xlabel('Approximate Social Grade', size=12)\n",
    "_ = plt.ylabel('Percent of people with determined level of Health', size=12)\n",
    "_ = plt.title('Health Level in Different Social Grades', size=16)"
   ]
  },
  {
   "cell_type": "code",
   "execution_count": 50,
   "metadata": {},
   "outputs": [
    {
     "data": {
      "text/plain": [
       "6     49.736395\n",
       "7     37.202381\n",
       "8      9.987852\n",
       "9      2.431973\n",
       "10     0.641399\n",
       "11    46.398817\n",
       "12    37.004673\n",
       "13    12.190401\n",
       "14     3.505970\n",
       "15     0.900139\n",
       "16    35.754854\n",
       "17    40.451111\n",
       "18    16.740893\n",
       "19     5.471878\n",
       "20     1.581265\n",
       "21    27.083401\n",
       "22    38.185712\n",
       "23    23.179247\n",
       "24     8.887991\n",
       "25     2.663650\n",
       "Name: %, dtype: float64"
      ]
     },
     "execution_count": 50,
     "metadata": {},
     "output_type": "execute_result"
    }
   ],
   "source": [
    "df_healthFilter['%']"
   ]
  },
  {
   "cell_type": "markdown",
   "metadata": {},
   "source": [
    "## Religion\n",
    "\n",
    "The thinking of people during the Middle Ages was dominated by Catholic Church, but then, during the 16th and 17th centuries, Britain faced religious conflicts that restricted Catholics and would solidly comfort the Protestant Christian segment in the UK. Religion inspired many social reformers during the 19th century that traveled over the world spreading their influence. At the same time, developments in science, politics, and theology threatened the faith with rational answers to unanswered questions until the date. In consequence, Britain was a strongly Protestant country from the Reformation until the early 20th century, but then it would decline in importance and would be replaced by other foreign religions.\n",
    "\n",
    "<img src=\"uk-religions.png\" alt=\"Drawing\" style=\"width: 400px;\"/>"
   ]
  },
  {
   "cell_type": "code",
   "execution_count": 51,
   "metadata": {},
   "outputs": [],
   "source": [
    "df_Rel = pd.DataFrame({'religion':['No religion', \n",
    "                                        'Christian', \n",
    "                                        'Buddhist',\n",
    "                                        'Hindu',\n",
    "                                        'Jewish',\n",
    "                                        'Muslim', \n",
    "                                        'Sikh',\n",
    "                                        'Other religion',\n",
    "                                        'Not stated',\n",
    "                                        'No code required']},\n",
    "                            index=[1,2,3,4,5,6,7,8,9,-9])"
   ]
  },
  {
   "cell_type": "code",
   "execution_count": 52,
   "metadata": {},
   "outputs": [
    {
     "data": {
      "text/html": [
       "<div>\n",
       "<style scoped>\n",
       "    .dataframe tbody tr th:only-of-type {\n",
       "        vertical-align: middle;\n",
       "    }\n",
       "\n",
       "    .dataframe tbody tr th {\n",
       "        vertical-align: top;\n",
       "    }\n",
       "\n",
       "    .dataframe thead th {\n",
       "        text-align: right;\n",
       "    }\n",
       "</style>\n",
       "<table border=\"1\" class=\"dataframe\">\n",
       "  <thead>\n",
       "    <tr style=\"text-align: right;\">\n",
       "      <th></th>\n",
       "      <th>counter</th>\n",
       "      <th>religion</th>\n",
       "    </tr>\n",
       "    <tr>\n",
       "      <th>Religion</th>\n",
       "      <th></th>\n",
       "      <th></th>\n",
       "    </tr>\n",
       "  </thead>\n",
       "  <tbody>\n",
       "    <tr>\n",
       "      <th>2</th>\n",
       "      <td>333481</td>\n",
       "      <td>Christian</td>\n",
       "    </tr>\n",
       "    <tr>\n",
       "      <th>1</th>\n",
       "      <td>141658</td>\n",
       "      <td>No religion</td>\n",
       "    </tr>\n",
       "    <tr>\n",
       "      <th>9</th>\n",
       "      <td>40613</td>\n",
       "      <td>Not stated</td>\n",
       "    </tr>\n",
       "    <tr>\n",
       "      <th>6</th>\n",
       "      <td>27240</td>\n",
       "      <td>Muslim</td>\n",
       "    </tr>\n",
       "    <tr>\n",
       "      <th>4</th>\n",
       "      <td>8214</td>\n",
       "      <td>Hindu</td>\n",
       "    </tr>\n",
       "    <tr>\n",
       "      <th>-9</th>\n",
       "      <td>6804</td>\n",
       "      <td>No code required</td>\n",
       "    </tr>\n",
       "    <tr>\n",
       "      <th>7</th>\n",
       "      <td>4215</td>\n",
       "      <td>Sikh</td>\n",
       "    </tr>\n",
       "    <tr>\n",
       "      <th>5</th>\n",
       "      <td>2572</td>\n",
       "      <td>Jewish</td>\n",
       "    </tr>\n",
       "    <tr>\n",
       "      <th>3</th>\n",
       "      <td>2538</td>\n",
       "      <td>Buddhist</td>\n",
       "    </tr>\n",
       "    <tr>\n",
       "      <th>8</th>\n",
       "      <td>2406</td>\n",
       "      <td>Other religion</td>\n",
       "    </tr>\n",
       "  </tbody>\n",
       "</table>\n",
       "</div>"
      ],
      "text/plain": [
       "          counter          religion\n",
       "Religion                           \n",
       " 2         333481         Christian\n",
       " 1         141658       No religion\n",
       " 9          40613        Not stated\n",
       " 6          27240            Muslim\n",
       " 4           8214             Hindu\n",
       "-9           6804  No code required\n",
       " 7           4215              Sikh\n",
       " 5           2572            Jewish\n",
       " 3           2538          Buddhist\n",
       " 8           2406    Other religion"
      ]
     },
     "execution_count": 52,
     "metadata": {},
     "output_type": "execute_result"
    }
   ],
   "source": [
    "df_group.groupby(['Religion']).count().join(df_Rel)[['counter', 'religion']].sort_values('counter', ascending=False)"
   ]
  },
  {
   "cell_type": "code",
   "execution_count": 53,
   "metadata": {},
   "outputs": [],
   "source": [
    "df_religion = df_group.groupby(['Approximated Social Grade', 'Religion']).count()"
   ]
  },
  {
   "cell_type": "code",
   "execution_count": 54,
   "metadata": {},
   "outputs": [],
   "source": [
    "df_religion.loc[1, 'sum'] = df_religion.loc[1, :].sum().counter\n",
    "df_religion.loc[2, 'sum'] = df_religion.loc[2, :].sum().counter\n",
    "df_religion.loc[3, 'sum'] = df_religion.loc[3, :].sum().counter\n",
    "df_religion.loc[4, 'sum'] = df_religion.loc[4, :].sum().counter\n",
    "df_religion.loc[-9, 'sum'] = df_religion.loc[-9, :].sum().counter"
   ]
  },
  {
   "cell_type": "code",
   "execution_count": 55,
   "metadata": {},
   "outputs": [],
   "source": [
    "df_religion['%'] = 100*df_religion['counter']/df_religion['sum']"
   ]
  },
  {
   "cell_type": "code",
   "execution_count": 56,
   "metadata": {},
   "outputs": [],
   "source": [
    "df_religion.reset_index(inplace=True)"
   ]
  },
  {
   "cell_type": "markdown",
   "metadata": {},
   "source": [
    "Filtering -9 code:"
   ]
  },
  {
   "cell_type": "code",
   "execution_count": 57,
   "metadata": {},
   "outputs": [],
   "source": [
    "df_religionFilter = df_religion[(df_religion.Religion != -9) & (df_religion['Approximated Social Grade'] != -9)]"
   ]
  },
  {
   "cell_type": "code",
   "execution_count": 58,
   "metadata": {},
   "outputs": [
    {
     "data": {
      "image/png": "[encoded data removed]",
      "text/plain": [
       "<Figure size 846.75x468 with 1 Axes>"
      ]
     },
     "metadata": {
      "needs_background": "light"
     },
     "output_type": "display_data"
    }
   ],
   "source": [
    "g = sns.catplot(x='Religion', y='%', hue='Approximated Social Grade',\n",
    "                capsize=.2, palette=\"coolwarm\", height=6.5, aspect=1.5,\n",
    "                kind=\"point\", data=df_religionFilter)\n",
    "_ = plt.xticks(np.arange(9), df_Rel.religion[:-1])\n",
    "_ = plt.xlabel('Religion', size=12)\n",
    "_ = plt.ylabel('Percent of people group by Social Grade', size=12)\n",
    "_ = plt.title('Religion in Different Social Grades', size=16)"
   ]
  },
  {
   "cell_type": "code",
   "execution_count": 59,
   "metadata": {},
   "outputs": [],
   "source": [
    "df_employee = pd.DataFrame({'employee_active':['active', \n",
    "                                               'active', \n",
    "                                               'active', \n",
    "                                               'active',\n",
    "                                               'inactive',\n",
    "                                               'inactive',\n",
    "                                               'inactive',\n",
    "                                               'inactive',\n",
    "                                               'inactive',\n",
    "                                               'No code'],\n",
    "                            'employee_condition':['Employee',\n",
    "                                                 'Self-employed',\n",
    "                                                 'Unemployed',\n",
    "                                                 'Full-time student',\n",
    "                                                 'Retired',\n",
    "                                                 'Student',\n",
    "                                                 'Looking after home or family',\n",
    "                                                 'Long-term sick or disabled',\n",
    "                                                 'Others',\n",
    "                                                 'No code']},\n",
    "                           index=[1,2,3,4,5,6,7,8,9,-9])"
   ]
  },
  {
   "cell_type": "code",
   "execution_count": 60,
   "metadata": {},
   "outputs": [
    {
     "data": {
      "text/html": [
       "<div>\n",
       "<style scoped>\n",
       "    .dataframe tbody tr th:only-of-type {\n",
       "        vertical-align: middle;\n",
       "    }\n",
       "\n",
       "    .dataframe tbody tr th {\n",
       "        vertical-align: top;\n",
       "    }\n",
       "\n",
       "    .dataframe thead th {\n",
       "        text-align: right;\n",
       "    }\n",
       "</style>\n",
       "<table border=\"1\" class=\"dataframe\">\n",
       "  <thead>\n",
       "    <tr style=\"text-align: right;\">\n",
       "      <th></th>\n",
       "      <th>counter</th>\n",
       "      <th>employee_active</th>\n",
       "      <th>employee_condition</th>\n",
       "    </tr>\n",
       "    <tr>\n",
       "      <th>Economic Activity</th>\n",
       "      <th></th>\n",
       "      <th></th>\n",
       "      <th></th>\n",
       "    </tr>\n",
       "  </thead>\n",
       "  <tbody>\n",
       "    <tr>\n",
       "      <th>1</th>\n",
       "      <td>216025</td>\n",
       "      <td>active</td>\n",
       "      <td>Employee</td>\n",
       "    </tr>\n",
       "    <tr>\n",
       "      <th>-9</th>\n",
       "      <td>112618</td>\n",
       "      <td>No code</td>\n",
       "      <td>No code</td>\n",
       "    </tr>\n",
       "    <tr>\n",
       "      <th>5</th>\n",
       "      <td>97480</td>\n",
       "      <td>inactive</td>\n",
       "      <td>Retired</td>\n",
       "    </tr>\n",
       "    <tr>\n",
       "      <th>2</th>\n",
       "      <td>40632</td>\n",
       "      <td>active</td>\n",
       "      <td>Self-employed</td>\n",
       "    </tr>\n",
       "    <tr>\n",
       "      <th>6</th>\n",
       "      <td>24756</td>\n",
       "      <td>inactive</td>\n",
       "      <td>Student</td>\n",
       "    </tr>\n",
       "    <tr>\n",
       "      <th>3</th>\n",
       "      <td>18109</td>\n",
       "      <td>active</td>\n",
       "      <td>Unemployed</td>\n",
       "    </tr>\n",
       "    <tr>\n",
       "      <th>8</th>\n",
       "      <td>17991</td>\n",
       "      <td>inactive</td>\n",
       "      <td>Long-term sick or disabled</td>\n",
       "    </tr>\n",
       "    <tr>\n",
       "      <th>7</th>\n",
       "      <td>17945</td>\n",
       "      <td>inactive</td>\n",
       "      <td>Looking after home or family</td>\n",
       "    </tr>\n",
       "    <tr>\n",
       "      <th>4</th>\n",
       "      <td>14117</td>\n",
       "      <td>active</td>\n",
       "      <td>Full-time student</td>\n",
       "    </tr>\n",
       "    <tr>\n",
       "      <th>9</th>\n",
       "      <td>10068</td>\n",
       "      <td>inactive</td>\n",
       "      <td>Others</td>\n",
       "    </tr>\n",
       "  </tbody>\n",
       "</table>\n",
       "</div>"
      ],
      "text/plain": [
       "                   counter employee_active            employee_condition\n",
       "Economic Activity                                                       \n",
       " 1                  216025          active                      Employee\n",
       "-9                  112618         No code                       No code\n",
       " 5                   97480        inactive                       Retired\n",
       " 2                   40632          active                 Self-employed\n",
       " 6                   24756        inactive                       Student\n",
       " 3                   18109          active                    Unemployed\n",
       " 8                   17991        inactive    Long-term sick or disabled\n",
       " 7                   17945        inactive  Looking after home or family\n",
       " 4                   14117          active             Full-time student\n",
       " 9                   10068        inactive                        Others"
      ]
     },
     "execution_count": 60,
     "metadata": {},
     "output_type": "execute_result"
    }
   ],
   "source": [
    "df_group.groupby(['Economic Activity']).count().join(df_employee)[['counter',\n",
    "                                                                   'employee_active',\n",
    "                                                                   'employee_condition']].sort_values('counter', ascending=False)"
   ]
  },
  {
   "cell_type": "markdown",
   "metadata": {},
   "source": [
    "## Hours worked per week"
   ]
  },
  {
   "cell_type": "code",
   "execution_count": 61,
   "metadata": {},
   "outputs": [],
   "source": [
    "df_work = pd.DataFrame({'type_work':['Part-time', 'Part-time', 'Full-time', 'Full-time', 'No code'],\n",
    "                        'hours':['<15 hours', '16-30 hours', '31-48 hours', '>49 hours', 'No code']},\n",
    "                         index=[1,2,3,4,-9])"
   ]
  },
  {
   "cell_type": "code",
   "execution_count": 62,
   "metadata": {},
   "outputs": [],
   "source": [
    "df_workHours = df_group.groupby(['Hours worked per week']).count()\n",
    "df_workHours['%'] = 100*df_workHours.counter/df_workHours.counter.sum()"
   ]
  },
  {
   "cell_type": "code",
   "execution_count": 63,
   "metadata": {},
   "outputs": [
    {
     "data": {
      "text/html": [
       "<div>\n",
       "<style scoped>\n",
       "    .dataframe tbody tr th:only-of-type {\n",
       "        vertical-align: middle;\n",
       "    }\n",
       "\n",
       "    .dataframe tbody tr th {\n",
       "        vertical-align: top;\n",
       "    }\n",
       "\n",
       "    .dataframe thead th {\n",
       "        text-align: right;\n",
       "    }\n",
       "</style>\n",
       "<table border=\"1\" class=\"dataframe\">\n",
       "  <thead>\n",
       "    <tr style=\"text-align: right;\">\n",
       "      <th></th>\n",
       "      <th>type_work</th>\n",
       "      <th>hours</th>\n",
       "      <th>counter</th>\n",
       "      <th>%</th>\n",
       "    </tr>\n",
       "    <tr>\n",
       "      <th>Hours worked per week</th>\n",
       "      <th></th>\n",
       "      <th></th>\n",
       "      <th></th>\n",
       "      <th></th>\n",
       "    </tr>\n",
       "  </thead>\n",
       "  <tbody>\n",
       "    <tr>\n",
       "      <th>-9</th>\n",
       "      <td>No code</td>\n",
       "      <td>No code</td>\n",
       "      <td>302321</td>\n",
       "      <td>53.062883</td>\n",
       "    </tr>\n",
       "    <tr>\n",
       "      <th>3</th>\n",
       "      <td>Full-time</td>\n",
       "      <td>31-48 hours</td>\n",
       "      <td>153938</td>\n",
       "      <td>27.018944</td>\n",
       "    </tr>\n",
       "    <tr>\n",
       "      <th>2</th>\n",
       "      <td>Part-time</td>\n",
       "      <td>16-30 hours</td>\n",
       "      <td>52133</td>\n",
       "      <td>9.150298</td>\n",
       "    </tr>\n",
       "    <tr>\n",
       "      <th>4</th>\n",
       "      <td>Full-time</td>\n",
       "      <td>&gt;49 hours</td>\n",
       "      <td>35573</td>\n",
       "      <td>6.243714</td>\n",
       "    </tr>\n",
       "    <tr>\n",
       "      <th>1</th>\n",
       "      <td>Part-time</td>\n",
       "      <td>&lt;15 hours</td>\n",
       "      <td>25776</td>\n",
       "      <td>4.524161</td>\n",
       "    </tr>\n",
       "  </tbody>\n",
       "</table>\n",
       "</div>"
      ],
      "text/plain": [
       "                       type_work        hours  counter          %\n",
       "Hours worked per week                                            \n",
       "-9                       No code      No code   302321  53.062883\n",
       " 3                     Full-time  31-48 hours   153938  27.018944\n",
       " 2                     Part-time  16-30 hours    52133   9.150298\n",
       " 4                     Full-time    >49 hours    35573   6.243714\n",
       " 1                     Part-time    <15 hours    25776   4.524161"
      ]
     },
     "execution_count": 63,
     "metadata": {},
     "output_type": "execute_result"
    }
   ],
   "source": [
    "df_workHoursResult = df_workHours.join(df_work).loc[:, ['type_work', 'hours', 'counter', '%']].sort_values('%', ascending=False)\n",
    "df_workHoursResult"
   ]
  },
  {
   "cell_type": "markdown",
   "metadata": {},
   "source": [
    "**53% of population belongs to the inactive group** (people aged under 16, people not working, and students or schoolchildren living away during term-time)."
   ]
  },
  {
   "cell_type": "markdown",
   "metadata": {},
   "source": [
    "# Prediction of work status\n",
    "\n",
    "Let's build a model to predict if every person is currently in work - either Employed or Self-Employed."
   ]
  },
  {
   "cell_type": "code",
   "execution_count": 64,
   "metadata": {},
   "outputs": [
    {
     "data": {
      "text/html": [
       "<div>\n",
       "<style scoped>\n",
       "    .dataframe tbody tr th:only-of-type {\n",
       "        vertical-align: middle;\n",
       "    }\n",
       "\n",
       "    .dataframe tbody tr th {\n",
       "        vertical-align: top;\n",
       "    }\n",
       "\n",
       "    .dataframe thead th {\n",
       "        text-align: right;\n",
       "    }\n",
       "</style>\n",
       "<table border=\"1\" class=\"dataframe\">\n",
       "  <thead>\n",
       "    <tr style=\"text-align: right;\">\n",
       "      <th></th>\n",
       "      <th>Person ID</th>\n",
       "      <th>Region</th>\n",
       "      <th>Residence Type</th>\n",
       "      <th>Family Composition</th>\n",
       "      <th>Population Base</th>\n",
       "      <th>Sex</th>\n",
       "      <th>Age</th>\n",
       "      <th>Marital Status</th>\n",
       "      <th>Student</th>\n",
       "      <th>Country of Birth</th>\n",
       "      <th>Health</th>\n",
       "      <th>Ethnic Group</th>\n",
       "      <th>Religion</th>\n",
       "      <th>Economic Activity</th>\n",
       "      <th>Occupation</th>\n",
       "      <th>Industry</th>\n",
       "      <th>Hours worked per week</th>\n",
       "      <th>Approximated Social Grade</th>\n",
       "      <th>counter</th>\n",
       "    </tr>\n",
       "  </thead>\n",
       "  <tbody>\n",
       "    <tr>\n",
       "      <th>0</th>\n",
       "      <td>7394816</td>\n",
       "      <td>E12000001</td>\n",
       "      <td>H</td>\n",
       "      <td>2</td>\n",
       "      <td>1</td>\n",
       "      <td>2</td>\n",
       "      <td>6</td>\n",
       "      <td>2</td>\n",
       "      <td>2</td>\n",
       "      <td>1</td>\n",
       "      <td>2</td>\n",
       "      <td>1</td>\n",
       "      <td>2</td>\n",
       "      <td>5</td>\n",
       "      <td>8</td>\n",
       "      <td>2</td>\n",
       "      <td>-9</td>\n",
       "      <td>4</td>\n",
       "      <td>1</td>\n",
       "    </tr>\n",
       "    <tr>\n",
       "      <th>1</th>\n",
       "      <td>7394745</td>\n",
       "      <td>E12000001</td>\n",
       "      <td>H</td>\n",
       "      <td>5</td>\n",
       "      <td>1</td>\n",
       "      <td>1</td>\n",
       "      <td>4</td>\n",
       "      <td>1</td>\n",
       "      <td>2</td>\n",
       "      <td>1</td>\n",
       "      <td>1</td>\n",
       "      <td>1</td>\n",
       "      <td>2</td>\n",
       "      <td>1</td>\n",
       "      <td>8</td>\n",
       "      <td>6</td>\n",
       "      <td>4</td>\n",
       "      <td>3</td>\n",
       "      <td>1</td>\n",
       "    </tr>\n",
       "    <tr>\n",
       "      <th>2</th>\n",
       "      <td>7395066</td>\n",
       "      <td>E12000001</td>\n",
       "      <td>H</td>\n",
       "      <td>3</td>\n",
       "      <td>1</td>\n",
       "      <td>2</td>\n",
       "      <td>4</td>\n",
       "      <td>1</td>\n",
       "      <td>2</td>\n",
       "      <td>1</td>\n",
       "      <td>1</td>\n",
       "      <td>1</td>\n",
       "      <td>1</td>\n",
       "      <td>1</td>\n",
       "      <td>6</td>\n",
       "      <td>11</td>\n",
       "      <td>3</td>\n",
       "      <td>4</td>\n",
       "      <td>1</td>\n",
       "    </tr>\n",
       "    <tr>\n",
       "      <th>3</th>\n",
       "      <td>7395329</td>\n",
       "      <td>E12000001</td>\n",
       "      <td>H</td>\n",
       "      <td>3</td>\n",
       "      <td>1</td>\n",
       "      <td>2</td>\n",
       "      <td>2</td>\n",
       "      <td>1</td>\n",
       "      <td>2</td>\n",
       "      <td>1</td>\n",
       "      <td>2</td>\n",
       "      <td>1</td>\n",
       "      <td>2</td>\n",
       "      <td>1</td>\n",
       "      <td>7</td>\n",
       "      <td>7</td>\n",
       "      <td>3</td>\n",
       "      <td>2</td>\n",
       "      <td>1</td>\n",
       "    </tr>\n",
       "    <tr>\n",
       "      <th>4</th>\n",
       "      <td>7394712</td>\n",
       "      <td>E12000001</td>\n",
       "      <td>H</td>\n",
       "      <td>3</td>\n",
       "      <td>1</td>\n",
       "      <td>1</td>\n",
       "      <td>5</td>\n",
       "      <td>4</td>\n",
       "      <td>2</td>\n",
       "      <td>1</td>\n",
       "      <td>1</td>\n",
       "      <td>1</td>\n",
       "      <td>2</td>\n",
       "      <td>1</td>\n",
       "      <td>1</td>\n",
       "      <td>4</td>\n",
       "      <td>3</td>\n",
       "      <td>2</td>\n",
       "      <td>1</td>\n",
       "    </tr>\n",
       "  </tbody>\n",
       "</table>\n",
       "</div>"
      ],
      "text/plain": [
       "   Person ID     Region Residence Type  Family Composition  Population Base  \\\n",
       "0    7394816  E12000001              H                   2                1   \n",
       "1    7394745  E12000001              H                   5                1   \n",
       "2    7395066  E12000001              H                   3                1   \n",
       "3    7395329  E12000001              H                   3                1   \n",
       "4    7394712  E12000001              H                   3                1   \n",
       "\n",
       "   Sex  Age  Marital Status  Student  Country of Birth  Health  Ethnic Group  \\\n",
       "0    2    6               2        2                 1       2             1   \n",
       "1    1    4               1        2                 1       1             1   \n",
       "2    2    4               1        2                 1       1             1   \n",
       "3    2    2               1        2                 1       2             1   \n",
       "4    1    5               4        2                 1       1             1   \n",
       "\n",
       "   Religion  Economic Activity  Occupation  Industry  Hours worked per week  \\\n",
       "0         2                  5           8         2                     -9   \n",
       "1         2                  1           8         6                      4   \n",
       "2         1                  1           6        11                      3   \n",
       "3         2                  1           7         7                      3   \n",
       "4         2                  1           1         4                      3   \n",
       "\n",
       "   Approximated Social Grade  counter  \n",
       "0                          4        1  \n",
       "1                          3        1  \n",
       "2                          4        1  \n",
       "3                          2        1  \n",
       "4                          2        1  "
      ]
     },
     "execution_count": 64,
     "metadata": {},
     "output_type": "execute_result"
    }
   ],
   "source": [
    "df_group.head()"
   ]
  },
  {
   "cell_type": "markdown",
   "metadata": {},
   "source": [
    "Checking the independence between the different features:"
   ]
  },
  {
   "cell_type": "code",
   "execution_count": 71,
   "metadata": {},
   "outputs": [],
   "source": [
    "a = df_group.loc[:, ['Family Composition', 'Population Base', 'Sex', 'Marital Status', 'Student']]"
   ]
  },
  {
   "cell_type": "code",
   "execution_count": 72,
   "metadata": {},
   "outputs": [
    {
     "data": {
      "text/html": [
       "<div>\n",
       "<style scoped>\n",
       "    .dataframe tbody tr th:only-of-type {\n",
       "        vertical-align: middle;\n",
       "    }\n",
       "\n",
       "    .dataframe tbody tr th {\n",
       "        vertical-align: top;\n",
       "    }\n",
       "\n",
       "    .dataframe thead th {\n",
       "        text-align: right;\n",
       "    }\n",
       "</style>\n",
       "<table border=\"1\" class=\"dataframe\">\n",
       "  <thead>\n",
       "    <tr style=\"text-align: right;\">\n",
       "      <th></th>\n",
       "      <th>Family Composition</th>\n",
       "      <th>Population Base</th>\n",
       "      <th>Sex</th>\n",
       "      <th>Marital Status</th>\n",
       "      <th>Student</th>\n",
       "    </tr>\n",
       "  </thead>\n",
       "  <tbody>\n",
       "    <tr>\n",
       "      <th>0</th>\n",
       "      <td>2</td>\n",
       "      <td>1</td>\n",
       "      <td>2</td>\n",
       "      <td>2</td>\n",
       "      <td>2</td>\n",
       "    </tr>\n",
       "    <tr>\n",
       "      <th>1</th>\n",
       "      <td>5</td>\n",
       "      <td>1</td>\n",
       "      <td>1</td>\n",
       "      <td>1</td>\n",
       "      <td>2</td>\n",
       "    </tr>\n",
       "    <tr>\n",
       "      <th>2</th>\n",
       "      <td>3</td>\n",
       "      <td>1</td>\n",
       "      <td>2</td>\n",
       "      <td>1</td>\n",
       "      <td>2</td>\n",
       "    </tr>\n",
       "    <tr>\n",
       "      <th>3</th>\n",
       "      <td>3</td>\n",
       "      <td>1</td>\n",
       "      <td>2</td>\n",
       "      <td>1</td>\n",
       "      <td>2</td>\n",
       "    </tr>\n",
       "    <tr>\n",
       "      <th>4</th>\n",
       "      <td>3</td>\n",
       "      <td>1</td>\n",
       "      <td>1</td>\n",
       "      <td>4</td>\n",
       "      <td>2</td>\n",
       "    </tr>\n",
       "  </tbody>\n",
       "</table>\n",
       "</div>"
      ],
      "text/plain": [
       "   Family Composition  Population Base  Sex  Marital Status  Student\n",
       "0                   2                1    2               2        2\n",
       "1                   5                1    1               1        2\n",
       "2                   3                1    2               1        2\n",
       "3                   3                1    2               1        2\n",
       "4                   3                1    1               4        2"
      ]
     },
     "execution_count": 72,
     "metadata": {},
     "output_type": "execute_result"
    }
   ],
   "source": [
    "a.head()"
   ]
  },
  {
   "cell_type": "code",
   "execution_count": 129,
   "metadata": {},
   "outputs": [],
   "source": [
    "df_ml = df.copy()"
   ]
  },
  {
   "cell_type": "code",
   "execution_count": 130,
   "metadata": {},
   "outputs": [
    {
     "data": {
      "text/plain": [
       "Person ID                     int64\n",
       "Region                       object\n",
       "Residence Type               object\n",
       "Family Composition            int64\n",
       "Population Base               int64\n",
       "Sex                           int64\n",
       "Age                           int64\n",
       "Marital Status                int64\n",
       "Student                       int64\n",
       "Country of Birth              int64\n",
       "Health                        int64\n",
       "Ethnic Group                  int64\n",
       "Religion                      int64\n",
       "Economic Activity             int64\n",
       "Occupation                    int64\n",
       "Industry                      int64\n",
       "Hours worked per week         int64\n",
       "Approximated Social Grade     int64\n",
       "dtype: object"
      ]
     },
     "execution_count": 130,
     "metadata": {},
     "output_type": "execute_result"
    }
   ],
   "source": [
    "df_ml.dtypes"
   ]
  },
  {
   "cell_type": "code",
   "execution_count": 131,
   "metadata": {},
   "outputs": [],
   "source": [
    "df_ml['Region'] = df_ml['Region'].astype('category').cat.codes\n",
    "df_ml['Residence Type'] = df_ml['Residence Type'].astype('category').cat.codes"
   ]
  },
  {
   "cell_type": "code",
   "execution_count": 132,
   "metadata": {},
   "outputs": [
    {
     "data": {
      "text/html": [
       "<div>\n",
       "<style scoped>\n",
       "    .dataframe tbody tr th:only-of-type {\n",
       "        vertical-align: middle;\n",
       "    }\n",
       "\n",
       "    .dataframe tbody tr th {\n",
       "        vertical-align: top;\n",
       "    }\n",
       "\n",
       "    .dataframe thead th {\n",
       "        text-align: right;\n",
       "    }\n",
       "</style>\n",
       "<table border=\"1\" class=\"dataframe\">\n",
       "  <thead>\n",
       "    <tr style=\"text-align: right;\">\n",
       "      <th></th>\n",
       "      <th>Person ID</th>\n",
       "      <th>Region</th>\n",
       "      <th>Residence Type</th>\n",
       "      <th>Family Composition</th>\n",
       "      <th>Population Base</th>\n",
       "      <th>Sex</th>\n",
       "      <th>Age</th>\n",
       "      <th>Marital Status</th>\n",
       "      <th>Student</th>\n",
       "      <th>Country of Birth</th>\n",
       "      <th>Health</th>\n",
       "      <th>Ethnic Group</th>\n",
       "      <th>Religion</th>\n",
       "      <th>Economic Activity</th>\n",
       "      <th>Occupation</th>\n",
       "      <th>Industry</th>\n",
       "      <th>Hours worked per week</th>\n",
       "      <th>Approximated Social Grade</th>\n",
       "    </tr>\n",
       "  </thead>\n",
       "  <tbody>\n",
       "    <tr>\n",
       "      <th>0</th>\n",
       "      <td>7394816</td>\n",
       "      <td>0</td>\n",
       "      <td>1</td>\n",
       "      <td>2</td>\n",
       "      <td>1</td>\n",
       "      <td>2</td>\n",
       "      <td>6</td>\n",
       "      <td>2</td>\n",
       "      <td>2</td>\n",
       "      <td>1</td>\n",
       "      <td>2</td>\n",
       "      <td>1</td>\n",
       "      <td>2</td>\n",
       "      <td>5</td>\n",
       "      <td>8</td>\n",
       "      <td>2</td>\n",
       "      <td>-9</td>\n",
       "      <td>4</td>\n",
       "    </tr>\n",
       "    <tr>\n",
       "      <th>1</th>\n",
       "      <td>7394745</td>\n",
       "      <td>0</td>\n",
       "      <td>1</td>\n",
       "      <td>5</td>\n",
       "      <td>1</td>\n",
       "      <td>1</td>\n",
       "      <td>4</td>\n",
       "      <td>1</td>\n",
       "      <td>2</td>\n",
       "      <td>1</td>\n",
       "      <td>1</td>\n",
       "      <td>1</td>\n",
       "      <td>2</td>\n",
       "      <td>1</td>\n",
       "      <td>8</td>\n",
       "      <td>6</td>\n",
       "      <td>4</td>\n",
       "      <td>3</td>\n",
       "    </tr>\n",
       "    <tr>\n",
       "      <th>2</th>\n",
       "      <td>7395066</td>\n",
       "      <td>0</td>\n",
       "      <td>1</td>\n",
       "      <td>3</td>\n",
       "      <td>1</td>\n",
       "      <td>2</td>\n",
       "      <td>4</td>\n",
       "      <td>1</td>\n",
       "      <td>2</td>\n",
       "      <td>1</td>\n",
       "      <td>1</td>\n",
       "      <td>1</td>\n",
       "      <td>1</td>\n",
       "      <td>1</td>\n",
       "      <td>6</td>\n",
       "      <td>11</td>\n",
       "      <td>3</td>\n",
       "      <td>4</td>\n",
       "    </tr>\n",
       "    <tr>\n",
       "      <th>3</th>\n",
       "      <td>7395329</td>\n",
       "      <td>0</td>\n",
       "      <td>1</td>\n",
       "      <td>3</td>\n",
       "      <td>1</td>\n",
       "      <td>2</td>\n",
       "      <td>2</td>\n",
       "      <td>1</td>\n",
       "      <td>2</td>\n",
       "      <td>1</td>\n",
       "      <td>2</td>\n",
       "      <td>1</td>\n",
       "      <td>2</td>\n",
       "      <td>1</td>\n",
       "      <td>7</td>\n",
       "      <td>7</td>\n",
       "      <td>3</td>\n",
       "      <td>2</td>\n",
       "    </tr>\n",
       "    <tr>\n",
       "      <th>4</th>\n",
       "      <td>7394712</td>\n",
       "      <td>0</td>\n",
       "      <td>1</td>\n",
       "      <td>3</td>\n",
       "      <td>1</td>\n",
       "      <td>1</td>\n",
       "      <td>5</td>\n",
       "      <td>4</td>\n",
       "      <td>2</td>\n",
       "      <td>1</td>\n",
       "      <td>1</td>\n",
       "      <td>1</td>\n",
       "      <td>2</td>\n",
       "      <td>1</td>\n",
       "      <td>1</td>\n",
       "      <td>4</td>\n",
       "      <td>3</td>\n",
       "      <td>2</td>\n",
       "    </tr>\n",
       "  </tbody>\n",
       "</table>\n",
       "</div>"
      ],
      "text/plain": [
       "   Person ID  Region  Residence Type  Family Composition  Population Base  \\\n",
       "0    7394816       0               1                   2                1   \n",
       "1    7394745       0               1                   5                1   \n",
       "2    7395066       0               1                   3                1   \n",
       "3    7395329       0               1                   3                1   \n",
       "4    7394712       0               1                   3                1   \n",
       "\n",
       "   Sex  Age  Marital Status  Student  Country of Birth  Health  Ethnic Group  \\\n",
       "0    2    6               2        2                 1       2             1   \n",
       "1    1    4               1        2                 1       1             1   \n",
       "2    2    4               1        2                 1       1             1   \n",
       "3    2    2               1        2                 1       2             1   \n",
       "4    1    5               4        2                 1       1             1   \n",
       "\n",
       "   Religion  Economic Activity  Occupation  Industry  Hours worked per week  \\\n",
       "0         2                  5           8         2                     -9   \n",
       "1         2                  1           8         6                      4   \n",
       "2         1                  1           6        11                      3   \n",
       "3         2                  1           7         7                      3   \n",
       "4         2                  1           1         4                      3   \n",
       "\n",
       "   Approximated Social Grade  \n",
       "0                          4  \n",
       "1                          3  \n",
       "2                          4  \n",
       "3                          2  \n",
       "4                          2  "
      ]
     },
     "execution_count": 132,
     "metadata": {},
     "output_type": "execute_result"
    }
   ],
   "source": [
    "df_ml.head()"
   ]
  },
  {
   "cell_type": "code",
   "execution_count": 133,
   "metadata": {},
   "outputs": [],
   "source": [
    "def output(activity_column):\n",
    "    if activity_column in [1,2]:\n",
    "        return 1\n",
    "    else:\n",
    "        return 0"
   ]
  },
  {
   "cell_type": "code",
   "execution_count": 134,
   "metadata": {},
   "outputs": [],
   "source": [
    "df_ml['output'] = df_ml['Economic Activity'].apply(output)"
   ]
  },
  {
   "cell_type": "code",
   "execution_count": 135,
   "metadata": {},
   "outputs": [],
   "source": [
    "#df_ml.head(100)"
   ]
  },
  {
   "cell_type": "code",
   "execution_count": 136,
   "metadata": {},
   "outputs": [
    {
     "data": {
      "text/html": [
       "<div>\n",
       "<style scoped>\n",
       "    .dataframe tbody tr th:only-of-type {\n",
       "        vertical-align: middle;\n",
       "    }\n",
       "\n",
       "    .dataframe tbody tr th {\n",
       "        vertical-align: top;\n",
       "    }\n",
       "\n",
       "    .dataframe thead th {\n",
       "        text-align: right;\n",
       "    }\n",
       "</style>\n",
       "<table border=\"1\" class=\"dataframe\">\n",
       "  <thead>\n",
       "    <tr style=\"text-align: right;\">\n",
       "      <th></th>\n",
       "      <th>Person ID</th>\n",
       "      <th>Region</th>\n",
       "      <th>Residence Type</th>\n",
       "      <th>Family Composition</th>\n",
       "      <th>Population Base</th>\n",
       "      <th>Sex</th>\n",
       "      <th>Age</th>\n",
       "      <th>Marital Status</th>\n",
       "      <th>Student</th>\n",
       "      <th>Country of Birth</th>\n",
       "      <th>Health</th>\n",
       "      <th>Ethnic Group</th>\n",
       "      <th>Religion</th>\n",
       "      <th>Economic Activity</th>\n",
       "      <th>Occupation</th>\n",
       "      <th>Industry</th>\n",
       "      <th>Hours worked per week</th>\n",
       "      <th>Approximated Social Grade</th>\n",
       "    </tr>\n",
       "    <tr>\n",
       "      <th>output</th>\n",
       "      <th></th>\n",
       "      <th></th>\n",
       "      <th></th>\n",
       "      <th></th>\n",
       "      <th></th>\n",
       "      <th></th>\n",
       "      <th></th>\n",
       "      <th></th>\n",
       "      <th></th>\n",
       "      <th></th>\n",
       "      <th></th>\n",
       "      <th></th>\n",
       "      <th></th>\n",
       "      <th></th>\n",
       "      <th></th>\n",
       "      <th></th>\n",
       "      <th></th>\n",
       "      <th></th>\n",
       "    </tr>\n",
       "  </thead>\n",
       "  <tbody>\n",
       "    <tr>\n",
       "      <th>0</th>\n",
       "      <td>313084</td>\n",
       "      <td>313084</td>\n",
       "      <td>313084</td>\n",
       "      <td>313084</td>\n",
       "      <td>313084</td>\n",
       "      <td>313084</td>\n",
       "      <td>313084</td>\n",
       "      <td>313084</td>\n",
       "      <td>313084</td>\n",
       "      <td>313084</td>\n",
       "      <td>313084</td>\n",
       "      <td>313084</td>\n",
       "      <td>313084</td>\n",
       "      <td>313084</td>\n",
       "      <td>313084</td>\n",
       "      <td>313084</td>\n",
       "      <td>313084</td>\n",
       "      <td>313084</td>\n",
       "    </tr>\n",
       "    <tr>\n",
       "      <th>1</th>\n",
       "      <td>256657</td>\n",
       "      <td>256657</td>\n",
       "      <td>256657</td>\n",
       "      <td>256657</td>\n",
       "      <td>256657</td>\n",
       "      <td>256657</td>\n",
       "      <td>256657</td>\n",
       "      <td>256657</td>\n",
       "      <td>256657</td>\n",
       "      <td>256657</td>\n",
       "      <td>256657</td>\n",
       "      <td>256657</td>\n",
       "      <td>256657</td>\n",
       "      <td>256657</td>\n",
       "      <td>256657</td>\n",
       "      <td>256657</td>\n",
       "      <td>256657</td>\n",
       "      <td>256657</td>\n",
       "    </tr>\n",
       "  </tbody>\n",
       "</table>\n",
       "</div>"
      ],
      "text/plain": [
       "        Person ID  Region  Residence Type  Family Composition  \\\n",
       "output                                                          \n",
       "0          313084  313084          313084              313084   \n",
       "1          256657  256657          256657              256657   \n",
       "\n",
       "        Population Base     Sex     Age  Marital Status  Student  \\\n",
       "output                                                             \n",
       "0                313084  313084  313084          313084   313084   \n",
       "1                256657  256657  256657          256657   256657   \n",
       "\n",
       "        Country of Birth  Health  Ethnic Group  Religion  Economic Activity  \\\n",
       "output                                                                        \n",
       "0                 313084  313084        313084    313084             313084   \n",
       "1                 256657  256657        256657    256657             256657   \n",
       "\n",
       "        Occupation  Industry  Hours worked per week  Approximated Social Grade  \n",
       "output                                                                          \n",
       "0           313084    313084                 313084                     313084  \n",
       "1           256657    256657                 256657                     256657  "
      ]
     },
     "execution_count": 136,
     "metadata": {},
     "output_type": "execute_result"
    }
   ],
   "source": [
    "df_ml.groupby('output').count()"
   ]
  },
  {
   "cell_type": "code",
   "execution_count": 137,
   "metadata": {},
   "outputs": [],
   "source": [
    "y = df_ml['output']\n",
    "df_ml.drop(columns=['Person ID', 'Economic Activity', 'Hours worked per week', 'output'], inplace=True)"
   ]
  },
  {
   "cell_type": "code",
   "execution_count": 138,
   "metadata": {},
   "outputs": [],
   "source": [
    "X = df_ml.replace({-9:0})"
   ]
  },
  {
   "cell_type": "code",
   "execution_count": 141,
   "metadata": {},
   "outputs": [],
   "source": [
    "from sklearn.model_selection import train_test_split\n",
    "from sklearn.naive_bayes import CategoricalNB"
   ]
  },
  {
   "cell_type": "code",
   "execution_count": 142,
   "metadata": {},
   "outputs": [],
   "source": [
    "X_train, X_test, y_train, y_test = train_test_split(X, y, test_size=0.33, random_state=42)"
   ]
  },
  {
   "cell_type": "code",
   "execution_count": 140,
   "metadata": {},
   "outputs": [
    {
     "data": {
      "text/plain": [
       "CategoricalNB(alpha=1.0, class_prior=None, fit_prior=True)"
      ]
     },
     "execution_count": 140,
     "metadata": {},
     "output_type": "execute_result"
    }
   ],
   "source": [
    "\n",
    "clf = CategoricalNB()\n",
    "clf.fit(X, y)"
   ]
  },
  {
   "cell_type": "code",
   "execution_count": 67,
   "metadata": {},
   "outputs": [
    {
     "data": {
      "text/plain": [
       "'Approximated Social Grade'"
      ]
     },
     "execution_count": 67,
     "metadata": {},
     "output_type": "execute_result"
    }
   ],
   "source": [
    "# df_workHours = df_group.groupby(['Hours worked per week']).count()\n",
    "\n",
    "\n",
    "# 'Approximated Social Grade'"
   ]
  },
  {
   "cell_type": "code",
   "execution_count": null,
   "metadata": {},
   "outputs": [],
   "source": [
    "\n",
    ">>> clf = CategoricalNB()\n",
    ">>> clf.fit(X, y)\n",
    "CategoricalNB()\n",
    ">>> print(clf.predict(X[2:3]))"
   ]
  }
 ],
 "metadata": {
  "kernelspec": {
   "display_name": "Python 3",
   "language": "python",
   "name": "python3"
  },
  "language_info": {
   "codemirror_mode": {
    "name": "ipython",
    "version": 3
   },
   "file_extension": ".py",
   "mimetype": "text/x-python",
   "name": "python",
   "nbconvert_exporter": "python",
   "pygments_lexer": "ipython3",
   "version": "3.7.1"
  }
 },
 "nbformat": 4,
 "nbformat_minor": 2
}
